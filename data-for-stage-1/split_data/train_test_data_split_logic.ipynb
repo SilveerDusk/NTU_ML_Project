{
 "cells": [
  {
   "cell_type": "markdown",
   "id": "a60245596b4bb8aa",
   "metadata": {},
   "source": [
    "# Train-Test Data Splitting\n",
    "### The files has already been generated. This script is uploaded for the record."
   ]
  },
  {
   "cell_type": "code",
   "execution_count": 6,
   "id": "e98413ed86c57638",
   "metadata": {
    "ExecuteTime": {
     "end_time": "2024-11-20T03:14:39.274617Z",
     "start_time": "2024-11-20T03:14:17.803762Z"
    }
   },
   "outputs": [
    {
     "name": "stderr",
     "output_type": "stream",
     "text": [
      "/var/folders/np/cqh38p9d4hb1lv6rmpbj3bnw0000gn/T/ipykernel_96841/605975620.py:13: FutureWarning: The behavior of DataFrame concatenation with empty or all-NA entries is deprecated. In a future version, this will no longer exclude empty or all-NA columns when determining the result dtypes. To retain the old behavior, exclude the relevant entries before the concat operation.\n",
      "  validation_data = pd.concat([validation_data, pd.DataFrame([row])], ignore_index=True)\n",
      "/var/folders/np/cqh38p9d4hb1lv6rmpbj3bnw0000gn/T/ipykernel_96841/605975620.py:15: FutureWarning: The behavior of DataFrame concatenation with empty or all-NA entries is deprecated. In a future version, this will no longer exclude empty or all-NA columns when determining the result dtypes. To retain the old behavior, exclude the relevant entries before the concat operation.\n",
      "  train_test_data = pd.concat([train_test_data, pd.DataFrame([row])], ignore_index=True)\n"
     ]
    },
    {
     "name": "stdout",
     "output_type": "stream",
     "text": [
      "Files created:\n",
      "- Train-test data saved as '../train_test_data.csv'\n",
      "- Validation data saved as '../validation_data.csv'\n"
     ]
    }
   ],
   "source": [
    "import pandas as pd\n",
    "\n",
    "# Step 1: Read the data\n",
    "data = pd.read_csv(\"../../data-exploration/running_means_training.csv\")\n",
    "\n",
    "# Step 2: Initialize empty DataFrames for train-test and validation data\n",
    "validation_data = pd.DataFrame(columns=data.columns)\n",
    "train_test_data = pd.DataFrame(columns=data.columns)\n",
    "\n",
    "# Step 3: Iterate through the data manually\n",
    "for index, row in data.iterrows():\n",
    "    if index % 10 == 0:  # Every 10th row\n",
    "        validation_data = pd.concat([validation_data, pd.DataFrame([row])], ignore_index=True)\n",
    "    else:  # All other rows\n",
    "        train_test_data = pd.concat([train_test_data, pd.DataFrame([row])], ignore_index=True)\n",
    "\n",
    "# Step 4: Save the files\n",
    "train_test_data.to_csv(\"../../data-exploration/train_test_data.csv\", index=False)\n",
    "validation_data.to_csv(\"../../data-exploration/validation_data.csv\", index=False)\n",
    "\n",
    "print(\"Files created:\")\n",
    "print(\"- Train-test data saved as '../train_test_data.csv'\")\n",
    "print(\"- Validation data saved as '../validation_data.csv'\")"
   ]
  },
  {
   "cell_type": "code",
   "execution_count": null,
   "id": "48cc2cb703c5b206",
   "metadata": {},
   "outputs": [],
   "source": []
  }
 ],
 "metadata": {
  "kernelspec": {
   "display_name": "Python 3",
   "language": "python",
   "name": "python3"
  },
  "language_info": {
   "codemirror_mode": {
    "name": "ipython",
    "version": 3
   },
   "file_extension": ".py",
   "mimetype": "text/x-python",
   "name": "python",
   "nbconvert_exporter": "python",
   "pygments_lexer": "ipython3",
   "version": "3.12.3"
  }
 },
 "nbformat": 4,
 "nbformat_minor": 5
}
