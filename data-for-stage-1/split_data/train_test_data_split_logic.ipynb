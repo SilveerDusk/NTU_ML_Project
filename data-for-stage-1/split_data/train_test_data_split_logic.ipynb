{
 "cells": [
  {
   "metadata": {},
   "cell_type": "markdown",
   "source": [
    "# Train-Test Data Splitting\n",
    "### The files has already been generated. This script is uploaded for the record."
   ],
   "id": "a60245596b4bb8aa"
  },
  {
   "metadata": {
    "ExecuteTime": {
     "end_time": "2024-11-20T03:14:39.274617Z",
     "start_time": "2024-11-20T03:14:17.803762Z"
    }
   },
   "cell_type": "code",
   "source": [
    "import pandas as pd\n",
    "\n",
    "# Step 1: Read the data\n",
    "data = pd.read_csv(\"../train_data.csv\")\n",
    "\n",
    "# Step 2: Initialize empty DataFrames for train-test and validation data\n",
    "validation_data = pd.DataFrame(columns=data.columns)\n",
    "train_test_data = pd.DataFrame(columns=data.columns)\n",
    "\n",
    "# Step 3: Iterate through the data manually\n",
    "for index, row in data.iterrows():\n",
    "    if index % 10 == 0:  # Every 10th row\n",
    "        validation_data = pd.concat([validation_data, pd.DataFrame([row])], ignore_index=True)\n",
    "    else:  # All other rows\n",
    "        train_test_data = pd.concat([train_test_data, pd.DataFrame([row])], ignore_index=True)\n",
    "\n",
    "# Step 4: Save the files\n",
    "train_test_data.to_csv(\"train_test_data.csv\", index=False)\n",
    "validation_data.to_csv(\"validation_data.csv\", index=False)\n",
    "\n",
    "print(\"Files created:\")\n",
    "print(\"- Train-test data saved as '../train_test_data.csv'\")\n",
    "print(\"- Validation data saved as '../validation_data.csv'\")"
   ],
   "id": "e98413ed86c57638",
   "outputs": [
    {
     "name": "stderr",
     "output_type": "stream",
     "text": [
      "/var/folders/d_/wgcjr1253jg39c5x5k7m21_m0000gn/T/ipykernel_35047/1301512779.py:15: FutureWarning: In a future version, object-dtype columns with all-bool values will not be included in reductions with bool_only=True. Explicitly cast to bool dtype instead.\n",
      "  train_test_data = pd.concat([train_test_data, pd.DataFrame([row])], ignore_index=True)\n",
      "/var/folders/d_/wgcjr1253jg39c5x5k7m21_m0000gn/T/ipykernel_35047/1301512779.py:13: FutureWarning: In a future version, object-dtype columns with all-bool values will not be included in reductions with bool_only=True. Explicitly cast to bool dtype instead.\n",
      "  validation_data = pd.concat([validation_data, pd.DataFrame([row])], ignore_index=True)\n"
     ]
    },
    {
     "name": "stdout",
     "output_type": "stream",
     "text": [
      "Files created:\n",
      "- Train-test data saved as '../train_test_data.csv'\n",
      "- Validation data saved as '../validation_data.csv'\n"
     ]
    }
   ],
   "execution_count": 4
  },
  {
   "metadata": {},
   "cell_type": "code",
   "outputs": [],
   "execution_count": null,
   "source": "",
   "id": "48cc2cb703c5b206"
  }
 ],
 "metadata": {
  "kernelspec": {
   "display_name": "Python 3",
   "language": "python",
   "name": "python3"
  },
  "language_info": {
   "codemirror_mode": {
    "name": "ipython",
    "version": 2
   },
   "file_extension": ".py",
   "mimetype": "text/x-python",
   "name": "python",
   "nbconvert_exporter": "python",
   "pygments_lexer": "ipython2",
   "version": "2.7.6"
  }
 },
 "nbformat": 4,
 "nbformat_minor": 5
}
