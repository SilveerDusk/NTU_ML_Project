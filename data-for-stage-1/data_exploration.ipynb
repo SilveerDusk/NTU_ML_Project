{
 "cells": [
  {
   "cell_type": "code",
   "execution_count": 3,
   "id": "initial_id",
   "metadata": {
    "ExecuteTime": {
     "end_time": "2024-11-09T05:13:40.257007Z",
     "start_time": "2024-11-09T05:13:39.693533Z"
    },
    "collapsed": true
   },
   "outputs": [],
   "source": [
    "import pandas as pd\n",
    "import matplotlib.pyplot as plt"
   ]
  },
  {
   "cell_type": "markdown",
   "id": "e65803d4a3a63917",
   "metadata": {},
   "source": [
    "## Importing Data"
   ]
  },
  {
   "cell_type": "code",
   "execution_count": 4,
   "id": "6331129330f1579e",
   "metadata": {
    "ExecuteTime": {
     "end_time": "2024-11-09T05:13:41.600187Z",
     "start_time": "2024-11-09T05:13:41.414100Z"
    }
   },
   "outputs": [
    {
     "name": "stdout",
     "output_type": "stream",
     "text": [
      "   id home_team_abbr away_team_abbr        date is_night_game  home_team_win  \\\n",
      "0   0            KFH            KJP  2021-05-16         False           True   \n",
      "1   1            VJV            HXK  2019-05-04          True          False   \n",
      "2   2            VJV            JEM  2019-06-10          True           True   \n",
      "3   3            BPH            FBW  2018-06-26          True           True   \n",
      "4   4            RLJ            DPS  2016-07-05          True          False   \n",
      "\n",
      "  home_pitcher away_pitcher  home_team_rest  away_team_rest  ...  \\\n",
      "0    juradar01    carraca01             1.0             1.0  ...   \n",
      "1    ramirer02    rodrich01             2.0             NaN  ...   \n",
      "2    jarvibr01    tropeni01             1.0             1.0  ...   \n",
      "3     diazyi01    johnsji04             1.0             1.0  ...   \n",
      "4    willibr02    armstsh01             1.0             1.0  ...   \n",
      "\n",
      "   away_pitcher_H_batters_faced_skew  away_pitcher_BB_batters_faced_mean  \\\n",
      "0                           1.133350                           -0.974559   \n",
      "1                          -0.044641                           -0.878649   \n",
      "2                          -0.100180                           -1.702937   \n",
      "3                          -1.385079                           -1.549095   \n",
      "4                           0.356122                            0.663967   \n",
      "\n",
      "   away_pitcher_BB_batters_faced_std  away_pitcher_BB_batters_faced_skew  \\\n",
      "0                          -0.900633                           -1.093425   \n",
      "1                          -1.079528                           -1.719608   \n",
      "2                          -0.867762                            1.992552   \n",
      "3                          -1.008470                            0.116080   \n",
      "4                          -0.123547                            0.361822   \n",
      "\n",
      "   away_pitcher_leverage_index_avg_mean  away_pitcher_leverage_index_avg_std  \\\n",
      "0                              0.896974                            -0.611051   \n",
      "1                              0.050448                            -0.851738   \n",
      "2                             -0.404961                            -0.132717   \n",
      "3                             -1.236753                            -0.119898   \n",
      "4                             -0.035276                            -0.285671   \n",
      "\n",
      "   away_pitcher_leverage_index_avg_skew  away_pitcher_wpa_def_mean  \\\n",
      "0                             -0.398111                   0.949021   \n",
      "1                             -0.202878                   0.489511   \n",
      "2                             -0.106344                   2.481020   \n",
      "3                              0.005985                   1.646317   \n",
      "4                             -2.563819                   0.527432   \n",
      "\n",
      "   away_pitcher_wpa_def_std  away_pitcher_wpa_def_skew  \n",
      "0                  1.007072                   0.340438  \n",
      "1                 -0.876286                   1.416154  \n",
      "2                 -0.200110                  -0.026083  \n",
      "3                 -0.764309                        NaN  \n",
      "4                 -0.911987                  -1.109533  \n",
      "\n",
      "[5 rows x 167 columns]\n"
     ]
    }
   ],
   "source": [
    "data = pd.read_csv('train_data.csv')\n",
    "# Display the first few rows of the dataset\n",
    "print(data.head())"
   ]
  },
  {
   "cell_type": "markdown",
   "id": "e39a6c8f2010fd6c",
   "metadata": {},
   "source": [
    "### Display all datatype"
   ]
  },
  {
   "cell_type": "code",
   "execution_count": 13,
   "id": "8ed9d9358f388ec4",
   "metadata": {
    "ExecuteTime": {
     "end_time": "2024-11-09T05:14:39.426860Z",
     "start_time": "2024-11-09T05:14:39.423767Z"
    }
   },
   "outputs": [
    {
     "data": {
      "text/plain": [
       "id                                    int64\n",
       "home_team_abbr                       object\n",
       "away_team_abbr                       object\n",
       "date                         datetime64[ns]\n",
       "is_night_game                        object\n",
       "                                  ...      \n",
       "away_pitcher_wpa_def_mean           float64\n",
       "away_pitcher_wpa_def_std            float64\n",
       "away_pitcher_wpa_def_skew           float64\n",
       "year                                  int32\n",
       "month                                 int32\n",
       "Length: 169, dtype: object"
      ]
     },
     "execution_count": 13,
     "metadata": {},
     "output_type": "execute_result"
    }
   ],
   "source": [
    "data.dtypes"
   ]
  },
  {
   "cell_type": "markdown",
   "id": "c223e6e509067437",
   "metadata": {},
   "source": [
    "## Convert Datetime to proper datetime object"
   ]
  },
  {
   "cell_type": "code",
   "execution_count": 7,
   "id": "d8a28b598e64be22",
   "metadata": {
    "ExecuteTime": {
     "end_time": "2024-11-09T05:25:04.732221Z",
     "start_time": "2024-11-09T05:25:04.725771Z"
    }
   },
   "outputs": [
    {
     "data": {
      "text/plain": [
       "0       2021-05-16\n",
       "1       2019-05-04\n",
       "2       2019-06-10\n",
       "3       2018-06-26\n",
       "4       2016-07-05\n",
       "           ...    \n",
       "11062   2016-07-08\n",
       "11063   2023-04-19\n",
       "11064   2022-05-27\n",
       "11065   2021-05-19\n",
       "11066   2023-05-22\n",
       "Name: date, Length: 11067, dtype: datetime64[ns]"
      ]
     },
     "execution_count": 7,
     "metadata": {},
     "output_type": "execute_result"
    }
   ],
   "source": [
    "from datetime import datetime\n",
    "\n",
    "# Convert string to date object\n",
    "data['date'] = pd.to_datetime(data['date'])\n",
    "\n",
    "# Print the date object\n",
    "data['date']"
   ]
  },
  {
   "cell_type": "markdown",
   "id": "561f8abc4f1dc629",
   "metadata": {},
   "source": [
    "## Checkout home_team_win parameters"
   ]
  },
  {
   "cell_type": "code",
   "execution_count": 8,
   "id": "d9faeb7eb90b973b",
   "metadata": {
    "ExecuteTime": {
     "end_time": "2024-11-09T05:25:09.519552Z",
     "start_time": "2024-11-09T05:25:09.380971Z"
    }
   },
   "outputs": [
    {
     "data": {
      "image/png": "[encoded data removed]",
      "text/plain": [
       "<Figure size 600x400 with 1 Axes>"
      ]
     },
     "metadata": {},
     "output_type": "display_data"
    },
    {
     "name": "stdout",
     "output_type": "stream",
     "text": [
      "Home Team Win: 5877, Home Team Lose: 5190\n"
     ]
    }
   ],
   "source": [
    "# Count occurrences of True and False\n",
    "counts = data[\"home_team_win\"].value_counts()\n",
    "\n",
    "# Plotting\n",
    "plt.figure(figsize=(6, 4))\n",
    "plt.bar(counts.index.astype(str), counts.values)\n",
    "plt.xlabel(\"Home Team Win\")\n",
    "plt.ylabel(\"Count\")\n",
    "plt.title(\"Distribution of Home Team Win (True/False)\")\n",
    "plt.show()\n",
    "\n",
    "win = data[\"home_team_win\"].value_counts()[True]\n",
    "lose = data[\"home_team_win\"].value_counts()[False]\n",
    "\n",
    "print(f\"Home Team Win: {win}, Home Team Lose: {lose}\")"
   ]
  },
  {
   "cell_type": "markdown",
   "id": "2ff54153e812bcd3",
   "metadata": {},
   "source": [
    "## Data Processing: Win-loss by Years"
   ]
  },
  {
   "cell_type": "code",
   "execution_count": 9,
   "id": "29e0f659c60bb47c",
   "metadata": {
    "ExecuteTime": {
     "end_time": "2024-11-09T05:27:20.575521Z",
     "start_time": "2024-11-09T05:27:20.566113Z"
    }
   },
   "outputs": [
    {
     "data": {
      "text/html": [
       "<div>\n",
       "<style scoped>\n",
       "    .dataframe tbody tr th:only-of-type {\n",
       "        vertical-align: middle;\n",
       "    }\n",
       "\n",
       "    .dataframe tbody tr th {\n",
       "        vertical-align: top;\n",
       "    }\n",
       "\n",
       "    .dataframe thead th {\n",
       "        text-align: right;\n",
       "    }\n",
       "</style>\n",
       "<table border=\"1\" class=\"dataframe\">\n",
       "  <thead>\n",
       "    <tr style=\"text-align: right;\">\n",
       "      <th></th>\n",
       "      <th>year</th>\n",
       "      <th>Loss</th>\n",
       "      <th>Win</th>\n",
       "      <th>Win_Percentage</th>\n",
       "      <th>Loss_Percentage</th>\n",
       "    </tr>\n",
       "  </thead>\n",
       "  <tbody>\n",
       "    <tr>\n",
       "      <th>0</th>\n",
       "      <td>2016</td>\n",
       "      <td>732</td>\n",
       "      <td>834</td>\n",
       "      <td>53.256705</td>\n",
       "      <td>46.743295</td>\n",
       "    </tr>\n",
       "    <tr>\n",
       "      <th>1</th>\n",
       "      <td>2017</td>\n",
       "      <td>719</td>\n",
       "      <td>855</td>\n",
       "      <td>54.320203</td>\n",
       "      <td>45.679797</td>\n",
       "    </tr>\n",
       "    <tr>\n",
       "      <th>2</th>\n",
       "      <td>2018</td>\n",
       "      <td>767</td>\n",
       "      <td>842</td>\n",
       "      <td>52.330640</td>\n",
       "      <td>47.669360</td>\n",
       "    </tr>\n",
       "    <tr>\n",
       "      <th>3</th>\n",
       "      <td>2019</td>\n",
       "      <td>769</td>\n",
       "      <td>852</td>\n",
       "      <td>52.560148</td>\n",
       "      <td>47.439852</td>\n",
       "    </tr>\n",
       "    <tr>\n",
       "      <th>4</th>\n",
       "      <td>2021</td>\n",
       "      <td>705</td>\n",
       "      <td>864</td>\n",
       "      <td>55.066922</td>\n",
       "      <td>44.933078</td>\n",
       "    </tr>\n",
       "    <tr>\n",
       "      <th>5</th>\n",
       "      <td>2022</td>\n",
       "      <td>735</td>\n",
       "      <td>796</td>\n",
       "      <td>51.992162</td>\n",
       "      <td>48.007838</td>\n",
       "    </tr>\n",
       "    <tr>\n",
       "      <th>6</th>\n",
       "      <td>2023</td>\n",
       "      <td>763</td>\n",
       "      <td>834</td>\n",
       "      <td>52.222918</td>\n",
       "      <td>47.777082</td>\n",
       "    </tr>\n",
       "  </tbody>\n",
       "</table>\n",
       "</div>"
      ],
      "text/plain": [
       "   year  Loss  Win  Win_Percentage  Loss_Percentage\n",
       "0  2016   732  834       53.256705        46.743295\n",
       "1  2017   719  855       54.320203        45.679797\n",
       "2  2018   767  842       52.330640        47.669360\n",
       "3  2019   769  852       52.560148        47.439852\n",
       "4  2021   705  864       55.066922        44.933078\n",
       "5  2022   735  796       51.992162        48.007838\n",
       "6  2023   763  834       52.222918        47.777082"
      ]
     },
     "execution_count": 9,
     "metadata": {},
     "output_type": "execute_result"
    }
   ],
   "source": [
    "# Convert 'date' to year\n",
    "data['year'] = data['date'].dt.year\n",
    "\n",
    "# Aggregate win-loss counts per year\n",
    "win_loss_by_year = data.groupby(['year', 'home_team_win']).size().unstack(fill_value=0)\n",
    "win_loss_by_year.columns = ['Loss', 'Win']  # Rename columns for clarity\n",
    "win_loss_by_year['Win_Percentage'] = (win_loss_by_year['Win'] / (win_loss_by_year['Win'] + win_loss_by_year['Loss'])) * 100\n",
    "win_loss_by_year['Loss_Percentage'] = (win_loss_by_year['Loss'] / (win_loss_by_year['Win'] + win_loss_by_year['Loss'])) * 100\n",
    "\n",
    "# Display the resulting DataFrame\n",
    "win_loss_by_year.reset_index(inplace=True)\n",
    "win_loss_by_year\n",
    "\n"
   ]
  },
  {
   "cell_type": "markdown",
   "id": "cc36d1c4fad7fcc1",
   "metadata": {},
   "source": [
    "### Viewing win-loss by Year"
   ]
  },
  {
   "cell_type": "code",
   "execution_count": 10,
   "id": "6fcfe5881a710b08",
   "metadata": {
    "ExecuteTime": {
     "end_time": "2024-11-09T05:27:16.170462Z",
     "start_time": "2024-11-09T05:27:16.072711Z"
    }
   },
   "outputs": [
    {
     "data": {
      "text/plain": [
       "<matplotlib.legend.Legend at 0x13736e480>"
      ]
     },
     "execution_count": 10,
     "metadata": {},
     "output_type": "execute_result"
    },
    {
     "data": {
      "image/png": "[encoded data removed]",
      "text/plain": [
       "<Figure size 800x400 with 1 Axes>"
      ]
     },
     "metadata": {},
     "output_type": "display_data"
    }
   ],
   "source": [
    "# Plotting win and loss percentages as overlapping sparklines\n",
    "plt.figure(figsize=(8, 4))\n",
    "plt.plot(win_loss_by_year['year'], win_loss_by_year['Win_Percentage'], marker='o', label=\"Win Percentage\")\n",
    "plt.plot(win_loss_by_year['year'], win_loss_by_year['Loss_Percentage'], marker='o', label=\"Loss Percentage\")\n",
    "\n",
    "# Adding labels and title\n",
    "plt.xlabel(\"Year\")\n",
    "plt.ylabel(\"Percentage\")\n",
    "plt.title(\"Win and Loss Percentage by Year\")\n",
    "plt.legend(loc=\"best\")\n",
    "\n"
   ]
  },
  {
   "cell_type": "markdown",
   "id": "1c49db68fb455970",
   "metadata": {},
   "source": [
    "### Viewing win-loss by months\n"
   ]
  },
  {
   "cell_type": "code",
   "execution_count": 11,
   "id": "9d77f36fb477a5ad",
   "metadata": {
    "ExecuteTime": {
     "end_time": "2024-11-09T05:29:05.094145Z",
     "start_time": "2024-11-09T05:29:05.087378Z"
    }
   },
   "outputs": [
    {
     "data": {
      "text/html": [
       "<div>\n",
       "<style scoped>\n",
       "    .dataframe tbody tr th:only-of-type {\n",
       "        vertical-align: middle;\n",
       "    }\n",
       "\n",
       "    .dataframe tbody tr th {\n",
       "        vertical-align: top;\n",
       "    }\n",
       "\n",
       "    .dataframe thead th {\n",
       "        text-align: right;\n",
       "    }\n",
       "</style>\n",
       "<table border=\"1\" class=\"dataframe\">\n",
       "  <thead>\n",
       "    <tr style=\"text-align: right;\">\n",
       "      <th></th>\n",
       "      <th>month</th>\n",
       "      <th>Loss</th>\n",
       "      <th>Win</th>\n",
       "      <th>Win_Percentage</th>\n",
       "      <th>Loss_Percentage</th>\n",
       "    </tr>\n",
       "  </thead>\n",
       "  <tbody>\n",
       "    <tr>\n",
       "      <th>0</th>\n",
       "      <td>3</td>\n",
       "      <td>54</td>\n",
       "      <td>58</td>\n",
       "      <td>51.785714</td>\n",
       "      <td>48.214286</td>\n",
       "    </tr>\n",
       "    <tr>\n",
       "      <th>1</th>\n",
       "      <td>4</td>\n",
       "      <td>1255</td>\n",
       "      <td>1337</td>\n",
       "      <td>51.581790</td>\n",
       "      <td>48.418210</td>\n",
       "    </tr>\n",
       "    <tr>\n",
       "      <th>2</th>\n",
       "      <td>5</td>\n",
       "      <td>1378</td>\n",
       "      <td>1549</td>\n",
       "      <td>52.921080</td>\n",
       "      <td>47.078920</td>\n",
       "    </tr>\n",
       "    <tr>\n",
       "      <th>3</th>\n",
       "      <td>6</td>\n",
       "      <td>1299</td>\n",
       "      <td>1513</td>\n",
       "      <td>53.805121</td>\n",
       "      <td>46.194879</td>\n",
       "    </tr>\n",
       "    <tr>\n",
       "      <th>4</th>\n",
       "      <td>7</td>\n",
       "      <td>1204</td>\n",
       "      <td>1420</td>\n",
       "      <td>54.115854</td>\n",
       "      <td>45.884146</td>\n",
       "    </tr>\n",
       "  </tbody>\n",
       "</table>\n",
       "</div>"
      ],
      "text/plain": [
       "   month  Loss   Win  Win_Percentage  Loss_Percentage\n",
       "0      3    54    58       51.785714        48.214286\n",
       "1      4  1255  1337       51.581790        48.418210\n",
       "2      5  1378  1549       52.921080        47.078920\n",
       "3      6  1299  1513       53.805121        46.194879\n",
       "4      7  1204  1420       54.115854        45.884146"
      ]
     },
     "execution_count": 11,
     "metadata": {},
     "output_type": "execute_result"
    }
   ],
   "source": [
    "# Convert 'date' to year\n",
    "data['month'] = data['date'].dt.month\n",
    "\n",
    "# Aggregate win-loss counts per year\n",
    "win_loss_by_month = data.groupby(['month', 'home_team_win']).size().unstack(fill_value=0)\n",
    "win_loss_by_month.columns = ['Loss', 'Win']  # Rename columns for clarity\n",
    "win_loss_by_month['Win_Percentage'] = (win_loss_by_month['Win'] / (win_loss_by_month['Win'] + win_loss_by_month['Loss'])) * 100\n",
    "win_loss_by_month['Loss_Percentage'] = (win_loss_by_month['Loss'] / (win_loss_by_month['Win'] + win_loss_by_month['Loss'])) * 100\n",
    "\n",
    "# Display the resulting DataFrame\n",
    "win_loss_by_month.reset_index(inplace=True)\n",
    "win_loss_by_month\n"
   ]
  },
  {
   "cell_type": "code",
   "execution_count": 24,
   "id": "ba2738af4cf32335",
   "metadata": {},
   "outputs": [
    {
     "data": {
      "text/plain": [
       "{'KFH': np.int64(212),\n",
       " 'VJV': np.int64(192),\n",
       " 'BPH': np.int64(194),\n",
       " 'RLJ': np.int64(219),\n",
       " 'GUT': np.int64(180),\n",
       " 'VQC': np.int64(181),\n",
       " 'PDF': np.int64(197),\n",
       " 'QPO': np.int64(204),\n",
       " 'UPV': np.int64(235),\n",
       " 'MOO': np.int64(208),\n",
       " 'RKN': np.int64(206),\n",
       " 'GKO': np.int64(198),\n",
       " 'XFB': np.int64(178),\n",
       " 'HAN': np.int64(180),\n",
       " 'RAV': np.int64(208),\n",
       " 'FBW': np.int64(202),\n",
       " 'DPS': np.int64(192),\n",
       " 'MZG': np.int64(197),\n",
       " 'QDH': np.int64(179),\n",
       " 'JBM': np.int64(166),\n",
       " 'ZQF': np.int64(186),\n",
       " 'YHA': np.int64(189),\n",
       " 'STC': np.int64(183),\n",
       " 'JEM': np.int64(246),\n",
       " 'SAJ': np.int64(192),\n",
       " 'PJT': np.int64(180),\n",
       " 'KJP': np.int64(193),\n",
       " 'GLO': np.int64(171),\n",
       " 'HXK': np.int64(228),\n",
       " 'ECN': np.int64(181)}"
      ]
     },
     "execution_count": 24,
     "metadata": {},
     "output_type": "execute_result"
    }
   ],
   "source": [
    "teams = data['home_team_abbr'].unique()\n",
    "\n",
    "# Create a dictionary to store win-loss counts for each team\n",
    "team_win_loss = {}\n",
    "for team in teams:\n",
    "  # For home wins\n",
    "  home_wins = data.loc[data['home_team_abbr'] == team, 'home_team_win'].value_counts()\n",
    "\n",
    "  # For away wins\n",
    "  away_wins = data.loc[(data['away_team_abbr'] == team) & (data['home_team_win'] == False)].value_counts()\n",
    "  \n",
    "  team_win_loss[team] = home_wins.get(True, 0) + away_wins.get(True, 0)\n",
    "\n",
    "team_win_loss"
   ]
  }
 ],
 "metadata": {
  "kernelspec": {
   "display_name": "Python 3",
   "language": "python",
   "name": "python3"
  },
  "language_info": {
   "codemirror_mode": {
    "name": "ipython",
    "version": 3
   },
   "file_extension": ".py",
   "mimetype": "text/x-python",
   "name": "python",
   "nbconvert_exporter": "python",
   "pygments_lexer": "ipython3",
   "version": "3.12.3"
  }
 },
 "nbformat": 4,
 "nbformat_minor": 5
}
