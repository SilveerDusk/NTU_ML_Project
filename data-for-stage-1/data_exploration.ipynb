{
 "cells": [
  {
   "cell_type": "code",
   "id": "initial_id",
   "metadata": {
    "collapsed": true,
    "ExecuteTime": {
     "end_time": "2024-11-09T05:13:40.257007Z",
     "start_time": "2024-11-09T05:13:39.693533Z"
    }
   },
   "source": [
    "import pandas as pd\n",
    "import matplotlib.pyplot as plt"
   ],
   "outputs": [],
   "execution_count": 2
  },
  {
   "metadata": {},
   "cell_type": "markdown",
   "source": "## Importing Data",
   "id": "e65803d4a3a63917"
  },
  {
   "metadata": {
    "ExecuteTime": {
     "end_time": "2024-11-09T05:13:41.600187Z",
     "start_time": "2024-11-09T05:13:41.414100Z"
    }
   },
   "cell_type": "code",
   "source": [
    "data = pd.read_csv('train_data.csv')\n",
    "# Display the first few rows of the dataset\n",
    "print(data.head())"
   ],
   "id": "6331129330f1579e",
   "outputs": [
    {
     "name": "stdout",
     "output_type": "stream",
     "text": [
      "   id home_team_abbr away_team_abbr        date is_night_game  home_team_win  \\\n",
      "0   0            KFH            KJP  2021-05-16         False           True   \n",
      "1   1            VJV            HXK  2019-05-04          True          False   \n",
      "2   2            VJV            JEM  2019-06-10          True           True   \n",
      "3   3            BPH            FBW  2018-06-26          True           True   \n",
      "4   4            RLJ            DPS  2016-07-05          True          False   \n",
      "\n",
      "  home_pitcher away_pitcher  home_team_rest  away_team_rest  ...  \\\n",
      "0    juradar01    carraca01             1.0             1.0  ...   \n",
      "1    ramirer02    rodrich01             2.0             NaN  ...   \n",
      "2    jarvibr01    tropeni01             1.0             1.0  ...   \n",
      "3     diazyi01    johnsji04             1.0             1.0  ...   \n",
      "4    willibr02    armstsh01             1.0             1.0  ...   \n",
      "\n",
      "   away_pitcher_H_batters_faced_skew  away_pitcher_BB_batters_faced_mean  \\\n",
      "0                           1.133350                           -0.974559   \n",
      "1                          -0.044641                           -0.878649   \n",
      "2                          -0.100180                           -1.702937   \n",
      "3                          -1.385079                           -1.549095   \n",
      "4                           0.356122                            0.663967   \n",
      "\n",
      "   away_pitcher_BB_batters_faced_std  away_pitcher_BB_batters_faced_skew  \\\n",
      "0                          -0.900633                           -1.093425   \n",
      "1                          -1.079528                           -1.719608   \n",
      "2                          -0.867762                            1.992552   \n",
      "3                          -1.008470                            0.116080   \n",
      "4                          -0.123547                            0.361822   \n",
      "\n",
      "   away_pitcher_leverage_index_avg_mean  away_pitcher_leverage_index_avg_std  \\\n",
      "0                              0.896974                            -0.611051   \n",
      "1                              0.050448                            -0.851738   \n",
      "2                             -0.404961                            -0.132717   \n",
      "3                             -1.236753                            -0.119898   \n",
      "4                             -0.035276                            -0.285671   \n",
      "\n",
      "   away_pitcher_leverage_index_avg_skew  away_pitcher_wpa_def_mean  \\\n",
      "0                             -0.398111                   0.949021   \n",
      "1                             -0.202878                   0.489511   \n",
      "2                             -0.106344                   2.481020   \n",
      "3                              0.005985                   1.646317   \n",
      "4                             -2.563819                   0.527432   \n",
      "\n",
      "   away_pitcher_wpa_def_std  away_pitcher_wpa_def_skew  \n",
      "0                  1.007072                   0.340438  \n",
      "1                 -0.876286                   1.416154  \n",
      "2                 -0.200110                  -0.026083  \n",
      "3                 -0.764309                        NaN  \n",
      "4                 -0.911987                  -1.109533  \n",
      "\n",
      "[5 rows x 167 columns]\n"
     ]
    }
   ],
   "execution_count": 3
  },
  {
   "metadata": {},
   "cell_type": "markdown",
   "source": "### Display all datatype",
   "id": "e39a6c8f2010fd6c"
  },
  {
   "metadata": {
    "ExecuteTime": {
     "end_time": "2024-11-09T05:14:39.426860Z",
     "start_time": "2024-11-09T05:14:39.423767Z"
    }
   },
   "cell_type": "code",
   "source": "print(data.dtypes)",
   "id": "8ed9d9358f388ec4",
   "outputs": [
    {
     "name": "stdout",
     "output_type": "stream",
     "text": [
      "id                                        int64\n",
      "home_team_abbr                           object\n",
      "away_team_abbr                           object\n",
      "date                                     object\n",
      "is_night_game                            object\n",
      "                                         ...   \n",
      "away_pitcher_leverage_index_avg_std     float64\n",
      "away_pitcher_leverage_index_avg_skew    float64\n",
      "away_pitcher_wpa_def_mean               float64\n",
      "away_pitcher_wpa_def_std                float64\n",
      "away_pitcher_wpa_def_skew               float64\n",
      "Length: 167, dtype: object\n"
     ]
    }
   ],
   "execution_count": 4
  },
  {
   "metadata": {
    "ExecuteTime": {
     "end_time": "2024-11-09T05:15:12.712045Z",
     "start_time": "2024-11-09T05:15:12.708698Z"
    }
   },
   "cell_type": "code",
   "source": "print(data['date'])",
   "id": "d8a28b598e64be22",
   "outputs": [
    {
     "name": "stdout",
     "output_type": "stream",
     "text": [
      "0        2021-05-16\n",
      "1        2019-05-04\n",
      "2        2019-06-10\n",
      "3        2018-06-26\n",
      "4        2016-07-05\n",
      "            ...    \n",
      "11062    2016-07-08\n",
      "11063    2023-04-19\n",
      "11064    2022-05-27\n",
      "11065    2021-05-19\n",
      "11066    2023-05-22\n",
      "Name: date, Length: 11067, dtype: object\n"
     ]
    }
   ],
   "execution_count": 5
  },
  {
   "metadata": {},
   "cell_type": "code",
   "outputs": [],
   "execution_count": null,
   "source": "",
   "id": "d9faeb7eb90b973b"
  }
 ],
 "metadata": {
  "kernelspec": {
   "display_name": "Python 3",
   "language": "python",
   "name": "python3"
  },
  "language_info": {
   "codemirror_mode": {
    "name": "ipython",
    "version": 2
   },
   "file_extension": ".py",
   "mimetype": "text/x-python",
   "name": "python",
   "nbconvert_exporter": "python",
   "pygments_lexer": "ipython2",
   "version": "2.7.6"
  }
 },
 "nbformat": 4,
 "nbformat_minor": 5
}
