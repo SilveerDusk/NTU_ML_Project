{
 "cells": [
  {
   "cell_type": "code",
   "execution_count": null,
   "id": "initial_id",
   "metadata": {
    "collapsed": true
   },
   "outputs": [],
   "source": [
    ""
   ]
  },
  {
   "metadata": {
    "ExecuteTime": {
     "end_time": "2024-11-20T04:31:11.724404Z",
     "start_time": "2024-11-20T04:31:10.951124Z"
    }
   },
   "cell_type": "code",
   "source": [
    "import numpy as np\n",
    "import pandas as pd\n",
    "import random\n",
    "import matplotlib.pyplot as plt\n",
    "from sklearn.preprocessing import StandardScaler\n",
    "\n",
    "# Load the data\n",
    "train_data = pd.read_csv('../split_data/train_test_data.csv')\n",
    "test_data = pd.read_csv('../split_data/validation_data.csv')\n",
    "\n",
    "\n",
    "def preprocess_data(train_data, test_data):\n",
    "    # Define target column\n",
    "    target = 'home_team_win'\n",
    "\n",
    "    # Drop non-predictive or unnecessary columns\n",
    "    drop_cols = ['id', 'date']\n",
    "    train_data = train_data.drop(columns=drop_cols, errors='ignore')\n",
    "    test_data = test_data.drop(columns=drop_cols, errors='ignore')\n",
    "\n",
    "    # Handle categorical features with consistent one-hot encoding\n",
    "    combined_data = pd.concat([train_data, test_data], axis=0)\n",
    "    combined_data = pd.get_dummies(combined_data, columns=combined_data.select_dtypes(include=['object']).columns, drop_first=True)\n",
    "\n",
    "    # Split back into train and test\n",
    "    train_data = combined_data.iloc[:len(train_data)]\n",
    "    test_data = combined_data.iloc[len(train_data):]\n",
    "\n",
    "    # Separate features and target\n",
    "    features = [col for col in train_data.columns if col != target]\n",
    "    X_train = train_data[features].fillna(0)\n",
    "    y_train = train_data[target].map({True: 1, False: -1})\n",
    "\n",
    "    X_test = test_data[features].fillna(0)\n",
    "    y_test = test_data[target].map({True: 1, False: -1})\n",
    "\n",
    "    return X_train.values, y_train.values, X_test.values, y_test.values\n",
    "\n",
    "# Preprocess train and test data\n",
    "X_train, y_train, X_test, y_test = preprocess_data(train_data, test_data)\n",
    "\n",
    "# Normalize features\n",
    "scaler = StandardScaler()\n",
    "X_train = scaler.fit_transform(X_train)\n",
    "X_test = scaler.transform(X_test)\n",
    "\n",
    "\n",
    "# PLA function\n",
    "def pla(x, y, max_iterations=10000):\n",
    "    w = np.zeros(x.shape[1])  # Initialize weight vector\n",
    "    updates = 0\n",
    "    consecutive_correct = 0\n",
    "\n",
    "    while True:\n",
    "        # Randomly select an example\n",
    "        i = random.randint(0, len(y) - 1)\n",
    "        x_i, y_i = x[i], y[i]\n",
    "        \n",
    "        # Check if classification is correct\n",
    "        if np.sign(np.dot(w, x_i)) != y_i:\n",
    "            # Update weights\n",
    "            w += y_i * x_i\n",
    "            updates += 1\n",
    "            consecutive_correct = 0  # Reset consecutive correct checks\n",
    "        else:\n",
    "            consecutive_correct += 1\n",
    "        \n",
    "        # Stop if we've checked max_iterations samples or 5N consecutive correct predictions\n",
    "        if consecutive_correct >= 5 * len(y) or updates >= max_iterations:\n",
    "            break\n",
    "    \n",
    "    return w, updates\n",
    "\n",
    "# Train PLA on training data\n",
    "w, updates = pla(X_train, y_train)\n",
    "\n",
    "print(f\"PLA converged after {updates} updates.\")\n",
    "\n",
    "# Test the model\n",
    "def predict(x, w):\n",
    "    return np.sign(np.dot(x, w))\n",
    "\n",
    "y_pred = predict(X_test, w)\n",
    "\n",
    "# Evaluate the performance\n",
    "accuracy = np.mean(y_pred == y_test)\n",
    "print(f\"Test Accuracy: {accuracy:.4f}\")\n",
    "\n",
    "# Visualization\n",
    "def plot_weights(w):\n",
    "    plt.figure(figsize=(10, 6))\n",
    "    plt.bar(range(len(w)), w)\n",
    "    plt.title(\"Feature Weights after PLA Training\")\n",
    "    plt.xlabel(\"Feature Index\")\n",
    "    plt.ylabel(\"Weight Value\")\n",
    "    plt.show()\n",
    "\n",
    "plot_weights(w)\n"
   ],
   "id": "f41e14b571fbf67f",
   "outputs": [
    {
     "name": "stdout",
     "output_type": "stream",
     "text": [
      "PLA converged after 34 updates.\n",
      "Test Accuracy: 0.4995\n"
     ]
    },
    {
     "data": {
      "text/plain": [
       "<Figure size 1000x600 with 1 Axes>"
      ],
      "image/png": "[encoded data removed]"
     },
     "metadata": {},
     "output_type": "display_data"
    }
   ],
   "execution_count": 12
  },
  {
   "metadata": {
    "ExecuteTime": {
     "end_time": "2024-11-20T03:40:44.749353Z",
     "start_time": "2024-11-20T03:40:44.747539Z"
    }
   },
   "cell_type": "code",
   "source": "",
   "id": "d8bedcaed95fead2",
   "outputs": [],
   "execution_count": 7
  },
  {
   "metadata": {},
   "cell_type": "code",
   "outputs": [],
   "execution_count": null,
   "source": "",
   "id": "15e46d1e13ae5833"
  }
 ],
 "metadata": {
  "kernelspec": {
   "display_name": "Python 3",
   "language": "python",
   "name": "python3"
  },
  "language_info": {
   "codemirror_mode": {
    "name": "ipython",
    "version": 2
   },
   "file_extension": ".py",
   "mimetype": "text/x-python",
   "name": "python",
   "nbconvert_exporter": "python",
   "pygments_lexer": "ipython2",
   "version": "2.7.6"
  }
 },
 "nbformat": 4,
 "nbformat_minor": 5
}
