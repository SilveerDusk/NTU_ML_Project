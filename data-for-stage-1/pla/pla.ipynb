{
 "cells": [
  {
   "cell_type": "code",
   "id": "initial_id",
   "metadata": {
    "collapsed": true,
    "ExecuteTime": {
     "end_time": "2024-11-20T03:33:00.000393Z",
     "start_time": "2024-11-20T03:32:53.174951Z"
    }
   },
   "source": [
    "import pandas as pd\n",
    "from sklearn.ensemble import RandomForestClassifier\n",
    "from sklearn.model_selection import train_test_split\n",
    "from sklearn.metrics import classification_report, accuracy_score\n",
    "from sklearn.preprocessing import LabelEncoder\n",
    "\n",
    "# Load data\n",
    "train_data = pd.read_csv('../split_data/train_test_data.csv')\n",
    "test_data = pd.read_csv('../split_data/validation_data.csv')\n",
    "\n",
    "# Preprocessing\n",
    "def preprocess_data(data):\n",
    "    # Drop columns that are not useful for prediction\n",
    "    drop_cols = ['id', 'date']  # Assuming 'id' and 'date' are not predictive\n",
    "    data = data.drop(columns=drop_cols, errors='ignore')\n",
    "    \n",
    "    # Handle categorical variables\n",
    "    categorical_cols = data.select_dtypes(include=['object']).columns\n",
    "    label_encoders = {}\n",
    "    for col in categorical_cols:\n",
    "        le = LabelEncoder()\n",
    "        data[col] = le.fit_transform(data[col].astype(str))\n",
    "        label_encoders[col] = le  # Save encoders if needed later\n",
    "    \n",
    "    # Handle missing values\n",
    "    data = data.fillna(data.median(numeric_only=True))\n",
    "    \n",
    "    return data, label_encoders\n",
    "\n",
    "# Preprocess train and test data\n",
    "train_data, train_encoders = preprocess_data(train_data)\n",
    "test_data, _ = preprocess_data(test_data)\n",
    "\n",
    "# Split features and target\n",
    "X_train = train_data.drop(columns=['home_team_win'])\n",
    "y_train = train_data['home_team_win']\n",
    "\n",
    "X_test = test_data.drop(columns=['home_team_win'])\n",
    "y_test = test_data['home_team_win']\n",
    "\n",
    "# Train the model\n",
    "model = RandomForestClassifier(random_state=42, n_estimators=100)\n",
    "model.fit(X_train, y_train)\n",
    "\n",
    "# Evaluate the model\n",
    "y_pred = model.predict(X_test)\n",
    "accuracy = accuracy_score(y_test, y_pred)\n",
    "print(f\"Accuracy: {accuracy:.2f}\")\n",
    "print(\"Classification Report:\\n\", classification_report(y_test, y_pred))\n"
   ],
   "outputs": [
    {
     "name": "stdout",
     "output_type": "stream",
     "text": [
      "Accuracy: 0.56\n",
      "Classification Report:\n",
      "               precision    recall  f1-score   support\n",
      "\n",
      "       False       0.52      0.46      0.49       504\n",
      "        True       0.59      0.65      0.61       603\n",
      "\n",
      "    accuracy                           0.56      1107\n",
      "   macro avg       0.55      0.55      0.55      1107\n",
      "weighted avg       0.56      0.56      0.56      1107\n",
      "\n"
     ]
    }
   ],
   "execution_count": 3
  },
  {
   "metadata": {
    "ExecuteTime": {
     "end_time": "2024-11-20T03:33:10.911396Z",
     "start_time": "2024-11-20T03:33:10.909093Z"
    }
   },
   "cell_type": "code",
   "source": "",
   "id": "59ad2086540c434",
   "outputs": [],
   "execution_count": 3
  },
  {
   "metadata": {},
   "cell_type": "code",
   "outputs": [],
   "execution_count": null,
   "source": "",
   "id": "5bf7b9ac4ee93101"
  }
 ],
 "metadata": {
  "kernelspec": {
   "display_name": "Python 3",
   "language": "python",
   "name": "python3"
  },
  "language_info": {
   "codemirror_mode": {
    "name": "ipython",
    "version": 2
   },
   "file_extension": ".py",
   "mimetype": "text/x-python",
   "name": "python",
   "nbconvert_exporter": "python",
   "pygments_lexer": "ipython2",
   "version": "2.7.6"
  }
 },
 "nbformat": 4,
 "nbformat_minor": 5
}
