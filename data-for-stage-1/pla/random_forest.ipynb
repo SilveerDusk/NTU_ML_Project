{
 "cells": [
  {
   "cell_type": "code",
   "execution_count": null,
   "id": "initial_id",
   "metadata": {
    "collapsed": true
   },
   "outputs": [],
   "source": [
    ""
   ]
  },
  {
   "metadata": {
    "ExecuteTime": {
     "end_time": "2024-11-21T04:40:11.451055Z",
     "start_time": "2024-11-21T04:40:04.713100Z"
    }
   },
   "cell_type": "code",
   "source": [
    "import pandas as pd\n",
    "from sklearn.ensemble import RandomForestClassifier\n",
    "from sklearn.model_selection import train_test_split\n",
    "from sklearn.metrics import classification_report, accuracy_score\n",
    "from sklearn.preprocessing import LabelEncoder\n",
    "\n",
    "# Load data\n",
    "train_data = pd.read_csv('../split_data/train_test_data.csv')\n",
    "test_data = pd.read_csv('../split_data/validation_data.csv')\n",
    "\n",
    "# Preprocessing\n",
    "def preprocess_data(data):\n",
    "    # Drop columns that are not useful for prediction\n",
    "    drop_cols = ['id', 'date']  # Assuming 'id' and 'date' are not predictive\n",
    "    data = data.drop(columns=drop_cols, errors='ignore')\n",
    "    \n",
    "    # Handle categorical variables\n",
    "    categorical_cols = data.select_dtypes(include=['object']).columns\n",
    "    label_encoders = {}\n",
    "    for col in categorical_cols:\n",
    "        le = LabelEncoder()\n",
    "        data[col] = le.fit_transform(data[col].astype(str))\n",
    "        label_encoders[col] = le  # Save encoders if needed later\n",
    "    \n",
    "    # Handle missing values\n",
    "    data = data.fillna(data.median(numeric_only=True))\n",
    "    \n",
    "    return data, label_encoders\n",
    "\n",
    "# Preprocess train and test data\n",
    "train_data, train_encoders = preprocess_data(train_data)\n",
    "test_data, _ = preprocess_data(test_data)\n",
    "\n",
    "# Split features and target\n",
    "X_train = train_data.drop(columns=['home_team_win'])\n",
    "y_train = train_data['home_team_win']\n",
    "\n",
    "X_test = test_data.drop(columns=['home_team_win'])\n",
    "y_test = test_data['home_team_win']\n",
    "\n",
    "# Train the model\n",
    "model = RandomForestClassifier(random_state=42, n_estimators=100)\n",
    "model.fit(X_train, y_train)\n",
    "\n",
    "# Evaluate the model\n",
    "y_pred = model.predict(X_test)\n",
    "accuracy = accuracy_score(y_test, y_pred)\n",
    "print(f\"Accuracy: {accuracy:.6f}\")\n",
    "print(\"Classification Report:\\n\", classification_report(y_test, y_pred))"
   ],
   "id": "bdb834a7bcfcc96d",
   "outputs": [
    {
     "name": "stdout",
     "output_type": "stream",
     "text": [
      "Accuracy: 0.559169\n",
      "Classification Report:\n",
      "               precision    recall  f1-score   support\n",
      "\n",
      "       False       0.52      0.46      0.49       504\n",
      "        True       0.59      0.65      0.61       603\n",
      "\n",
      "    accuracy                           0.56      1107\n",
      "   macro avg       0.55      0.55      0.55      1107\n",
      "weighted avg       0.56      0.56      0.56      1107\n",
      "\n"
     ]
    }
   ],
   "execution_count": 13
  },
  {
   "metadata": {
    "ExecuteTime": {
     "end_time": "2024-11-21T04:41:51.862757Z",
     "start_time": "2024-11-21T04:41:48.592231Z"
    }
   },
   "cell_type": "code",
   "source": [
    "import pandas as pd\n",
    "import numpy as np\n",
    "\n",
    "# Load the test data\n",
    "test_data_path = \"/Users/chuajerome/Desktop/ML_Project/data-for-stage-1/same_season_test_data.csv\"\n",
    "test_data_new = pd.read_csv(test_data_path)\n",
    "\n",
    "# Preprocess the test data\n",
    "def preprocess_new_data(data, encoders):\n",
    "    drop_cols = ['id', 'date']  # Drop non-predictive columns\n",
    "    data = data.drop(columns=drop_cols, errors='ignore')\n",
    "\n",
    "    # Apply label encoders to categorical columns\n",
    "    for col, encoder in encoders.items():\n",
    "        if col in data.columns:\n",
    "            # Handle unseen labels by replacing them with 'Unknown'\n",
    "            data[col] = data[col].astype(str).map(\n",
    "                lambda x: encoder.transform([x])[0] if x in encoder.classes_ else len(encoder.classes_)\n",
    "            )\n",
    "    \n",
    "    # Handle missing values\n",
    "    data = data.fillna(data.median(numeric_only=True))\n",
    "\n",
    "    return data\n",
    "\n",
    "# Add \"Unknown\" as a fallback category for each encoder\n",
    "train_encoders_with_unknown = {}\n",
    "for col, encoder in train_encoders.items():\n",
    "    train_encoders_with_unknown[col] = encoder\n",
    "    train_encoders_with_unknown[col].classes_ = np.append(encoder.classes_, 'Unknown')\n",
    "\n",
    "test_data_new_preprocessed = preprocess_new_data(test_data_new, train_encoders_with_unknown)\n",
    "\n",
    "# Predict using the trained model\n",
    "test_data_new['home_team_win'] = model.predict(test_data_new_preprocessed)\n",
    "\n",
    "# Create the output CSV\n",
    "output_csv = test_data_new[['id', 'home_team_win']]\n",
    "output_csv['home_team_win'] = output_csv['home_team_win'].astype(bool)  # Convert to boolean\n",
    "\n",
    "# Save the output\n",
    "output_path = \"/Users/chuajerome/Desktop/ML_Project/data-for-stage-1/predicted_home_team_win.csv\"\n",
    "output_csv.to_csv(output_path, index=False)\n",
    "\n",
    "print(f\"Output saved to {output_path}\")\n"
   ],
   "id": "6eb56fb916d77fe9",
   "outputs": [
    {
     "name": "stdout",
     "output_type": "stream",
     "text": [
      "Output saved to /Users/chuajerome/Desktop/ML_Project/data-for-stage-1/predicted_home_team_win.csv\n"
     ]
    },
    {
     "name": "stderr",
     "output_type": "stream",
     "text": [
      "/var/folders/d_/wgcjr1253jg39c5x5k7m21_m0000gn/T/ipykernel_17819/2408110787.py:39: SettingWithCopyWarning: \n",
      "A value is trying to be set on a copy of a slice from a DataFrame.\n",
      "Try using .loc[row_indexer,col_indexer] = value instead\n",
      "\n",
      "See the caveats in the documentation: https://pandas.pydata.org/pandas-docs/stable/user_guide/indexing.html#returning-a-view-versus-a-copy\n",
      "  output_csv['home_team_win'] = output_csv['home_team_win'].astype(bool)  # Convert to boolean\n"
     ]
    }
   ],
   "execution_count": 15
  },
  {
   "metadata": {},
   "cell_type": "code",
   "outputs": [],
   "execution_count": null,
   "source": "",
   "id": "8d2881c18999c09"
  }
 ],
 "metadata": {
  "kernelspec": {
   "display_name": "Python 3",
   "language": "python",
   "name": "python3"
  },
  "language_info": {
   "codemirror_mode": {
    "name": "ipython",
    "version": 2
   },
   "file_extension": ".py",
   "mimetype": "text/x-python",
   "name": "python",
   "nbconvert_exporter": "python",
   "pygments_lexer": "ipython2",
   "version": "2.7.6"
  }
 },
 "nbformat": 4,
 "nbformat_minor": 5
}
